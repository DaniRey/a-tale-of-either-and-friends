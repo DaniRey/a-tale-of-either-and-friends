{
  "metadata" : {
    "config" : {
      "dependencies" : {
        
      },
      "exclusions" : [
      ],
      "repositories" : [
      ]
    }
  },
  "nbformat" : 4,
  "nbformat_minor" : 0,
  "cells" : [
    {
      "cell_type" : "markdown",
      "execution_count" : 0,
      "metadata" : {
        "language" : "text"
      },
      "language" : "text",
      "source" : [
        "# 01 buidling blocks for a functional programming style<br>\n",
        "\n",
        "\n",
        "<div>A functional programming style means</div><div><ul><li>no mutation</li><li>pure functions without side-effects</li><li>functions as basic building block</li><li>controlled effects<br></li></ul></div><div><br></div>Applying a functional programming style, when working with collections means:<br>\n",
        "\n",
        "\n",
        "* avoid mutation\n",
        "* \n",
        "  avoid external iteration\n",
        "* use transformation pipelines\n",
        "  \n",
        "  \n",
        "  \n",
        "\n",
        "\n",
        "<br>To do so, knowing the following building blocks is crucial<br>\n",
        "\n",
        "\n"
      ],
      "outputs" : [
      ]
    },
    {
      "cell_type" : "code",
      "execution_count" : 4,
      "metadata" : {
        "cell.metadata.exec_info" : {
          "startTs" : 1582781442836,
          "endTs" : 1582781443352
        },
        "language" : "scala"
      },
      "language" : "scala",
      "source" : [
        "//BAD: separate definition and initialization, which requires a var\r\n",
        "var listVar: List[Int] = null\r\n",
        "listVar = List(1, 2, 3,-1 ,4 ,-7 ,23)\r\n",
        "listVar"
      ],
      "outputs" : [
      ]
    },
    {
      "cell_type" : "code",
      "execution_count" : 1,
      "metadata" : {
        "cell.metadata.exec_info" : {
          "startTs" : 1582781804662,
          "endTs" : 1582781805255
        },
        "language" : "scala"
      },
      "language" : "scala",
      "source" : [
        "//BAD: use mutable collections\r\n",
        "val mutableList = scala.collection.mutable.ListBuffer.empty[Int]\r\n",
        "\r\n",
        "mutableList += 1\r\n",
        "mutableList += 2\r\n",
        "mutableList += 3\r\n",
        "mutableList += -1\r\n",
        "mutableList += 4\r\n",
        "mutableList += -7\r\n",
        "mutableList += 2\r\n",
        "mutableList += 3\r\n",
        "mutableList"
      ],
      "outputs" : [
        {
          "execution_count" : 1,
          "data" : {
            "text/plain" : [
              "ListBuffer(1, 2, 3, -1, 4, -7, 2, 3)"
            ]
          },
          "metadata" : {
            "name" : "Out",
            "type" : "ListBuffer[Int]"
          },
          "output_type" : "execute_result"
        }
      ]
    },
    {
      "cell_type" : "code",
      "execution_count" : 3,
      "metadata" : {
        "cell.metadata.exec_info" : {
          "startTs" : 1582745934311,
          "endTs" : 1582745935035
        },
        "language" : "scala"
      },
      "language" : "scala",
      "source" : [
        "//GOOD: combine definition and initialisation\r\n",
        "val nums = List(1, 2, 3, -1, 4, -7, 2, 3)\r\n",
        "nums"
      ],
      "outputs" : [
        {
          "execution_count" : 3,
          "data" : {
            "text/plain" : [
              "List(1, 2, 3, -1, 4, -7, 2, 3)"
            ]
          },
          "metadata" : {
            "name" : "Out",
            "type" : "List[Int]"
          },
          "output_type" : "execute_result"
        }
      ]
    },
    {
      "cell_type" : "code",
      "execution_count" : 2,
      "metadata" : {
        "cell.metadata.exec_info" : {
          "startTs" : 1582734092368,
          "endTs" : 1582734092996
        },
        "language" : "scala"
      },
      "language" : "scala",
      "source" : [
        "//GOOD: if/else is an expression\r\n",
        "//it produces a return value and can be used like a pure function\r\n",
        "val numsContainsEven = if (nums.exists(_ % 2 == 0)) \"yes\" else \"no\"\r\n",
        "\r\n",
        "numsContainsEven"
      ],
      "outputs" : [
        {
          "execution_count" : 2,
          "data" : {
            "text/plain" : [
              "yes"
            ]
          },
          "metadata" : {
            "name" : "Out",
            "type" : "String"
          },
          "output_type" : "execute_result"
        }
      ]
    },
    {
      "cell_type" : "code",
      "execution_count" : 5,
      "metadata" : {
        "cell.metadata.exec_info" : {
          "startTs" : 1582781969040,
          "endTs" : 1582781969593
        },
        "language" : "scala"
      },
      "language" : "scala",
      "source" : [
        "//GOOD: use filter to create new collection which only contains values, that match a predicate\r\n",
        "//a predicate is a function T => Boolean\r\n",
        "val positiveNums = nums.filter(n => n > 0)\r\n",
        "positiveNums"
      ],
      "outputs" : [
        {
          "execution_count" : 5,
          "data" : {
            "text/plain" : [
              "List(1, 2, 3, 4, 2, 3)"
            ]
          },
          "metadata" : {
            "name" : "Out",
            "type" : "List[Int]"
          },
          "output_type" : "execute_result"
        }
      ]
    },
    {
      "cell_type" : "code",
      "execution_count" : 6,
      "metadata" : {
        "cell.metadata.exec_info" : {
          "startTs" : 1582782055719,
          "endTs" : 1582782056202
        },
        "language" : "scala"
      },
      "language" : "scala",
      "source" : [
        "//FACT: underscore is syntactic sugar, to replace x => x\r\n",
        "val positiveNumsUsingUnderscore = nums.filter(_ > 0)\r\n",
        "positiveNumsUsingUnderscore"
      ],
      "outputs" : [
        {
          "execution_count" : 6,
          "data" : {
            "text/plain" : [
              "List(1, 2, 3, 4, 2, 3)"
            ]
          },
          "metadata" : {
            "name" : "Out",
            "type" : "List[Int]"
          },
          "output_type" : "execute_result"
        }
      ]
    },
    {
      "cell_type" : "code",
      "execution_count" : 7,
      "metadata" : {
        "cell.metadata.exec_info" : {
          "startTs" : 1582782071188,
          "endTs" : 1582782071786
        },
        "language" : "scala"
      },
      "language" : "scala",
      "source" : [
        "//GOOD: use map to take something and transform it into something else\r\n",
        "//map takes a function T => U\r\n",
        "//T and U can be the same type\r\n",
        "val squared = nums.map(n => n * n)\r\n",
        "squared"
      ],
      "outputs" : [
        {
          "execution_count" : 7,
          "data" : {
            "text/plain" : [
              "List(1, 4, 9, 1, 16, 49, 4, 9)"
            ]
          },
          "metadata" : {
            "name" : "Out",
            "type" : "List[Int]"
          },
          "output_type" : "execute_result"
        }
      ]
    },
    {
      "cell_type" : "code",
      "execution_count" : 8,
      "metadata" : {
        "cell.metadata.exec_info" : {
          "startTs" : 1582782136020,
          "endTs" : 1582782138107
        },
        "language" : "scala"
      },
      "language" : "scala",
      "source" : [
        "//FACT: map is often used for projections\r\n",
        "case class Employee(name: String, boss: Option[Employee])\r\n",
        "\r\n",
        "val sandra = Employee(\"Sandra\", None)\r\n",
        "val olaf = Employee(\"Olaf\", Some(sandra))\r\n",
        "val dani = Employee(\"Dani\", Some(olaf))\r\n",
        "\r\n",
        "val team = List(sandra, dani, olaf)\r\n",
        "\r\n",
        "val teamMemberNames = team.map(e => e.name)\r\n",
        "teamMemberNames"
      ],
      "outputs" : [
        {
          "execution_count" : 8,
          "data" : {
            "text/plain" : [
              "List(Sandra, Dani, Olaf)"
            ]
          },
          "metadata" : {
            "name" : "Out",
            "type" : "List[String]"
          },
          "output_type" : "execute_result"
        }
      ]
    },
    {
      "cell_type" : "code",
      "execution_count" : 9,
      "metadata" : {
        "cell.metadata.exec_info" : {
          "startTs" : 1582782189966,
          "endTs" : 1582782190427
        },
        "language" : "scala"
      },
      "language" : "scala",
      "source" : [
        "//FACT: underscore may be used as syntactic sugar\r\n",
        "val teamMemberNamesUnderscore = team.map(_.name)\r\n",
        "teamMemberNamesUnderscore"
      ],
      "outputs" : [
        {
          "execution_count" : 9,
          "data" : {
            "text/plain" : [
              "List(Sandra, Dani, Olaf)"
            ]
          },
          "metadata" : {
            "name" : "Out",
            "type" : "List[String]"
          },
          "output_type" : "execute_result"
        }
      ]
    },
    {
      "cell_type" : "code",
      "execution_count" : 10,
      "metadata" : {
        "cell.metadata.exec_info" : {
          "startTs" : 1582782244476,
          "endTs" : 1582782245169
        },
        "language" : "scala"
      },
      "language" : "scala",
      "source" : [
        "//GOOD: flatMap is a combination of map and flatten\r\n",
        "//flatMap on C[T] takes a function T => C[U]\r\n",
        "//the function has to return elements of type the collection understands\r\n",
        "//List for example has flatMap defined as follows\r\n",
        "//   flatMap[B](f: A => IterableOnce[B]): List[B]\r\n",
        "//\r\n",
        "//\r\n",
        "def divisibleBy(x: Int): List[Int] =\r\n",
        "  if (x <= 1)\r\n",
        "    List(x)\r\n",
        "  else {\r\n",
        "    val divisors = for {\r\n",
        "      i <- 1 to x if x % i == 0\r\n",
        "    } yield i\r\n",
        "    divisors.toList\r\n",
        "  }\r\n",
        "\r\n",
        "val divisorsList = positiveNums.map(divisibleBy)\r\n",
        "divisorsList"
      ],
      "outputs" : [
        {
          "execution_count" : 10,
          "data" : {
            "text/plain" : [
              "List(List(1), List(1, 2), List(1, 3), List(1, 2, 4), List(1, 2), List(1, 3))"
            ]
          },
          "metadata" : {
            "name" : "Out",
            "type" : "List[List[Int]]"
          },
          "output_type" : "execute_result"
        }
      ]
    },
    {
      "cell_type" : "code",
      "execution_count" : 11,
      "metadata" : {
        "cell.metadata.exec_info" : {
          "startTs" : 1582782248488,
          "endTs" : 1582782249006
        },
        "language" : "scala"
      },
      "language" : "scala",
      "source" : [
        "val divisors = positiveNums.flatMap(divisibleBy)\r\n",
        "divisors"
      ],
      "outputs" : [
        {
          "execution_count" : 11,
          "data" : {
            "text/plain" : [
              "List(1, 1, 2, 1, 3, 1, 2, 4, 1, 2, 1, 3)"
            ]
          },
          "metadata" : {
            "name" : "Out",
            "type" : "List[Int]"
          },
          "output_type" : "execute_result"
        }
      ]
    },
    {
      "cell_type" : "code",
      "execution_count" : 12,
      "metadata" : {
        "cell.metadata.exec_info" : {
          "startTs" : 1582782296896,
          "endTs" : 1582782297435
        },
        "language" : "scala"
      },
      "language" : "scala",
      "source" : [
        "//FACT: more advanced combinations are possible\r\n",
        "val namesOfBosses =\r\n",
        "  team\r\n",
        "    .flatMap(_.boss)\r\n",
        "    .map(_.name)\r\n",
        "namesOfBosses    "
      ],
      "outputs" : [
        {
          "execution_count" : 12,
          "data" : {
            "text/plain" : [
              "List(Olaf, Sandra)"
            ]
          },
          "metadata" : {
            "name" : "Out",
            "type" : "List[String]"
          },
          "output_type" : "execute_result"
        }
      ]
    }
  ]
}