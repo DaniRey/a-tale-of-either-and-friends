{
  "metadata" : {
    "config" : {
      "dependencies" : {
        
      },
      "exclusions" : [
      ],
      "repositories" : [
      ]
    }
  },
  "nbformat" : 4,
  "nbformat_minor" : 0,
  "cells" : [
    {
      "cell_type" : "markdown",
      "execution_count" : 0,
      "metadata" : {
        "language" : "text"
      },
      "language" : "text",
      "source" : [
        "# 02 for comprehensions\n",
        "\n",
        "\n",
        "Many of these examples where taken straight from the famous talk: \"For: What is it good for?\"<br>by Josh Suereth & Dick Wall\n",
        "\n",
        "https://www.youtube.com/watch?v=WDaw2yXAa50&t=746s<br>\n",
        "\n",
        "Highly recommend to watch it!\n",
        "\n",
        "\n"
      ],
      "outputs" : [
      ]
    },
    {
      "cell_type" : "code",
      "execution_count" : 1,
      "metadata" : {
        "cell.metadata.exec_info" : {
          "startTs" : 1582782767805,
          "endTs" : 1582782769651
        },
        "language" : "scala"
      },
      "language" : "scala",
      "source" : [
        "//Fors are about loops\r\n",
        "for (i <- 1 to 10) println(\"hello world\")\r\n",
        "\r\n",
        "for (i <- 1 to 10) println(i * i)"
      ],
      "outputs" : [
        {
          "name" : "stdout",
          "text" : [
            "hello world\n",
            "hello world\n",
            "hello world\n",
            "hello world\n",
            "hello world\n",
            "hello world\n",
            "hello world\n",
            "hello world\n",
            "hello world\n",
            "hello world\n",
            "1\n",
            "4\n",
            "9\n",
            "16\n",
            "25\n",
            "36\n",
            "49\n",
            "64\n",
            "81\n",
            "100\n"
          ],
          "output_type" : "stream"
        }
      ]
    },
    {
      "cell_type" : "code",
      "execution_count" : 2,
      "metadata" : {
        "cell.metadata.exec_info" : {
          "startTs" : 1582784041013,
          "endTs" : 1582784041496
        },
        "language" : "scala"
      },
      "language" : "scala",
      "source" : [
        "//Fors can make collections or options\r\n",
        "val squares = for (i <- 1 to 10) yield i * i"
      ],
      "outputs" : [
      ]
    },
    {
      "cell_type" : "code",
      "execution_count" : 3,
      "metadata" : {
        "cell.metadata.exec_info" : {
          "startTs" : 1582782878451,
          "endTs" : 1582782880728
        },
        "language" : "scala"
      },
      "language" : "scala",
      "source" : [
        "case class TimesResult(i: Int, j: Int, mult: Int)\r\n",
        "\r\n",
        "//everything to the right of <- is a generator\r\n",
        "val timesTable = for {\r\n",
        "  i <- 1 to 5\r\n",
        "  j <- 1 to 5\r\n",
        "} yield TimesResult(i, j, i * j)\r\n",
        "\r\n",
        "timesTable"
      ],
      "outputs" : [
        {
          "execution_count" : 3,
          "data" : {
            "text/plain" : [
              "Vector(TimesResult(1,1,1), TimesResult(1,2,2), TimesResult(1,3,3), TimesResult(1,4,4), TimesResult(1,5,5), TimesResult(2,1,2), TimesResult(2,2,4), TimesResult(2,3,6), TimesResult(2,4,8), TimesResult(2,5,10), TimesResult(3,1,3), TimesResult(3,2,6), TimesR"
            ]
          },
          "metadata" : {
            "name" : "Out",
            "type" : "IndexedSeq[TimesResult]"
          },
          "output_type" : "execute_result"
        }
      ]
    },
    {
      "cell_type" : "code",
      "execution_count" : 4,
      "metadata" : {
        "cell.metadata.exec_info" : {
          "startTs" : 1582782996123,
          "endTs" : 1582782996846
        },
        "language" : "scala"
      },
      "language" : "scala",
      "source" : [
        "//the generators are connected by flatMap and map\r\n",
        "for {\r\n",
        "  i <- 1 to 3 //flatMap\r\n",
        "  j <- 1 to 3 //flatMap\r\n",
        "  k <- 1 to 3 //map\r\n",
        "} yield i * j * k"
      ],
      "outputs" : [
        {
          "execution_count" : 4,
          "data" : {
            "text/plain" : [
              "Vector(1, 2, 3, 2, 4, 6, 3, 6, 9, 2, 4, 6, 4, 8, 12, 6, 12, 18, 3, 6, 9, 6, 12, 18, 9, 18, 27)"
            ]
          },
          "metadata" : {
            "name" : "Out",
            "type" : "IndexedSeq[Int]"
          },
          "output_type" : "execute_result"
        }
      ]
    },
    {
      "cell_type" : "code",
      "execution_count" : 5,
      "metadata" : {
        "cell.metadata.exec_info" : {
          "startTs" : 1582783143983,
          "endTs" : 1582783144537
        },
        "language" : "scala"
      },
      "language" : "scala",
      "source" : [
        "//This works neatly for building something form multiple options\r\n",
        "val oResult = for {\r\n",
        "  i <- Some(1)\r\n",
        "  j <- Some(2)\r\n",
        "  k <- Some(5)\r\n",
        "} yield i * j * k\r\n",
        "\r\n",
        "oResult"
      ],
      "outputs" : [
        {
          "execution_count" : 5,
          "data" : {
            "text/plain" : [
              "Some(10)"
            ]
          },
          "metadata" : {
            "name" : "Out",
            "type" : "Option[Int]"
          },
          "output_type" : "execute_result"
        }
      ]
    },
    {
      "cell_type" : "code",
      "execution_count" : 6,
      "metadata" : {
        "cell.metadata.exec_info" : {
          "startTs" : 1582783794702,
          "endTs" : 1582783795103
        },
        "language" : "scala"
      },
      "language" : "scala",
      "source" : [
        "//if one Option is None, the for-comprehension yields None\r\n",
        "def intNone: Option[Int] = None\r\n",
        "val oNoResult = for {\r\n",
        "  i <- Some(1)\r\n",
        "  j <- intNone\r\n",
        "  k <- Some(5)\r\n",
        "} yield i * j * k\r\n",
        "\r\n",
        "println(oNoResult)"
      ],
      "outputs" : [
        {
          "name" : "stdout",
          "text" : [
            "None\n"
          ],
          "output_type" : "stream"
        }
      ]
    },
    {
      "cell_type" : "code",
      "execution_count" : 8,
      "metadata" : {
        "cell.metadata.exec_info" : {
          "startTs" : 1582783917794,
          "endTs" : 1582783918256
        },
        "language" : "scala"
      },
      "language" : "scala",
      "source" : [
        "//Fors can work on futures\r\n",
        "\r\n",
        "import scala.concurrent.ExecutionContext.Implicits.global\r\n",
        "import scala.concurrent._\r\n",
        "import scala.concurrent.duration._\r\n",
        "\r\n",
        "val f1 = Future {\r\n",
        "  Thread.sleep(10000); 6\r\n",
        "}\r\n",
        "val f2 = Future {\r\n",
        "  Thread.sleep(10000); 7\r\n",
        "}\r\n",
        "\r\n",
        "val f3 = for {\r\n",
        "  x <- f1\r\n",
        "  y <- f2\r\n",
        "} yield x * y\r\n",
        "\r\n",
        "f3"
      ],
      "outputs" : [
        {
          "execution_count" : 8,
          "data" : {
            "text/plain" : [
              "Future(<not completed>)"
            ]
          },
          "metadata" : {
            "name" : "Out",
            "type" : "Future[Int]"
          },
          "output_type" : "execute_result"
        }
      ]
    },
    {
      "cell_type" : "code",
      "execution_count" : 7,
      "metadata" : {
        "cell.metadata.exec_info" : {
          "startTs" : 1582783919886,
          "endTs" : 1582783928251
        },
        "language" : "scala"
      },
      "language" : "scala",
      "source" : [
        "f3.value\r\n",
        "\r\n",
        "Await.result(f3, 11.seconds)"
      ],
      "outputs" : [
        {
          "execution_count" : 7,
          "data" : {
            "text/plain" : [
              "42"
            ]
          },
          "metadata" : {
            "name" : "Out",
            "type" : "Int"
          },
          "output_type" : "execute_result"
        }
      ]
    }
  ]
}