{
  "metadata" : {
    "config" : {
      "dependencies" : {
        
      },
      "exclusions" : [
      ],
      "repositories" : [
      ]
    }
  },
  "nbformat" : 4,
  "nbformat_minor" : 0,
  "cells" : [
    {
      "cell_type" : "markdown",
      "execution_count" : 0,
      "metadata" : {
        "language" : "text"
      },
      "language" : "text",
      "source" : [
        "# 03 for comprehensions with either\n",
        "\n",
        "\n",
        "Many of these examples where taken straight from the famous talk: \"For: What is it good for?\"<br>by Josh Suereth & Dick Wall\n",
        "\n",
        "https://www.youtube.com/watch?v=WDaw2yXAa50&t=746s\n",
        "\n",
        "Highly recommend to watch it!\n",
        "\n",
        "\n"
      ],
      "outputs" : [
      ]
    },
    {
      "cell_type" : "markdown",
      "execution_count" : 1,
      "metadata" : {
        "language" : "text"
      },
      "language" : "text",
      "source" : [
        "*abstract sealed class Either[+A, +B]<br> extends Product<br>*<div><i>&nbsp;with scala.Serializable</i></div><div><br></div><div><b>Either represents a value of one of two possible types (a disjoint union). </b>An instance of Either is an instance of either scala.util.Left or scala.util.Right. <br></div><div><br></div><div>A common use of Either is as an alternative to scala.Option for dealing with possibly missing values. In this usage, scala.None is replaced with a scala.util.Left which can contain useful information. scala.util.Right takes the place of scala.Some. <br></div><div><br></div><div>Convention dictates that Left is used for failure and Right is used for success. For example, you could use Either[String, Int] to indicate whether a received input is a String or an Int.</div>"
      ],
      "outputs" : [
      ]
    },
    {
      "cell_type" : "code",
      "execution_count" : 2,
      "metadata" : {
        "cell.metadata.exec_info" : {
          "startTs" : 1582892414322,
          "endTs" : 1582892415872
        },
        "language" : "scala"
      },
      "language" : "scala",
      "source" : [
        "import scala.util.{Failure, Success, Try}\r\n"
      ],
      "outputs" : [
      ]
    },
    {
      "cell_type" : "code",
      "execution_count" : 3,
      "metadata" : {
        "cell.metadata.exec_info" : {
          "startTs" : 1582892416839,
          "endTs" : 1582892420762
        },
        "language" : "scala"
      },
      "language" : "scala",
      "source" : [
        "type ParseError = String\r\n",
        "val e1: Either[ParseError, Int] = Right(1)\r\n",
        "val e2: Either[ParseError, Int] = Right(5)\r\n",
        "\r\n",
        "for {\r\n",
        "  x <- e1.right\r\n",
        "  y <- e2.right\r\n",
        "} yield x * y\r\n"
      ],
      "outputs" : [
        {
          "execution_count" : 3,
          "data" : {
            "text/plain" : [
              "Right(5)"
            ]
          },
          "metadata" : {
            "name" : "Out",
            "type" : "Either[ParseError, Int]"
          },
          "output_type" : "execute_result"
        }
      ]
    },
    {
      "cell_type" : "code",
      "execution_count" : 4,
      "metadata" : {
        "cell.metadata.exec_info" : {
          "startTs" : 1582892420778,
          "endTs" : 1582892422770
        },
        "language" : "scala"
      },
      "language" : "scala",
      "source" : [
        "val e3: Either[ParseError, Int] = Left(\"Not a Number\")\r\n",
        "val e4: Either[ParseError, Int] = Right(5)\r\n",
        "\r\n",
        "for {\r\n",
        "  x <- e3.right\r\n",
        "  y <- e4.right\r\n",
        "} yield x * y"
      ],
      "outputs" : [
        {
          "execution_count" : 4,
          "data" : {
            "text/plain" : [
              "Left(Not a Number)"
            ]
          },
          "metadata" : {
            "name" : "Out",
            "type" : "Either[ParseError, Int]"
          },
          "output_type" : "execute_result"
        }
      ]
    },
    {
      "cell_type" : "code",
      "execution_count" : 11,
      "metadata" : {
        "cell.metadata.exec_info" : {
          "startTs" : 1582892790594,
          "endTs" : 1582892791206
        },
        "language" : "scala"
      },
      "language" : "scala",
      "source" : [
        "//Either is right biased since Scala 2.12, therefore we can omit the .right\r\n",
        "for {\r\n",
        "  x <- e3\r\n",
        "  y <- e4\r\n",
        "} yield x * y"
      ],
      "outputs" : [
        {
          "execution_count" : 11,
          "data" : {
            "text/plain" : [
              "Left(Not a Number)"
            ]
          },
          "metadata" : {
            "name" : "Out",
            "type" : "Either[ParseError, Int]"
          },
          "output_type" : "execute_result"
        }
      ]
    },
    {
      "cell_type" : "code",
      "execution_count" : 6,
      "metadata" : {
        "cell.metadata.exec_info" : {
          "startTs" : 1582892968326,
          "endTs" : 1582892968882
        },
        "language" : "scala"
      },
      "language" : "scala",
      "source" : [
        "//Why does this work?\r\n",
        "\r\n",
        "for {\r\n",
        "  x <- e1.right //flatMap\r\n",
        "  y <- e2.right //map\r\n",
        "} yield x * y\r\n",
        "\r\n",
        "//Is the same as\r\n",
        "\r\n",
        "e1.flatMap(\r\n",
        "  x => e2.map(\r\n",
        "    y => x * y)\r\n",
        ")"
      ],
      "outputs" : [
        {
          "execution_count" : 6,
          "data" : {
            "text/plain" : [
              "Right(5)"
            ]
          },
          "metadata" : {
            "name" : "Out",
            "type" : "Either[ParseError, Int]"
          },
          "output_type" : "execute_result"
        }
      ]
    },
    {
      "cell_type" : "code",
      "execution_count" : 7,
      "metadata" : {
        "cell.metadata.exec_info" : {
          "startTs" : 1582892889997,
          "endTs" : 1582892890410
        },
        "language" : "scala"
      },
      "language" : "scala",
      "source" : [
        "e3.flatMap(\r\n",
        "  x => e4.map(\r\n",
        "    y => x * y)\r\n",
        ")"
      ],
      "outputs" : [
        {
          "execution_count" : 7,
          "data" : {
            "text/plain" : [
              "Left(Not a Number)"
            ]
          },
          "metadata" : {
            "name" : "Out",
            "type" : "Either[ParseError, Int]"
          },
          "output_type" : "execute_result"
        }
      ]
    },
    {
      "cell_type" : "markdown",
      "execution_count" : 9,
      "metadata" : {
        "language" : "text"
      },
      "language" : "text",
      "source" : [
        "*abstract sealed class Either[+A, +B]*\n",
        "\n",
        "**<pre style=\"background-color:#ffffff;color:#000000;font-family:'JetBrains Mono';font-size:9.8pt;\"><span style=\"color:#808080;font-style:italic;\">/** Binds the given function across `Right</span><span style=\"background-color:#e2ffe2;\">`</span><span style=\"color:#808080;font-style:italic;\">.<br></span><span style=\"color:#808080;font-style:italic;\"> *<br></span><span style=\"color:#808080;font-style:italic;\"> *  </span><span style=\"font-weight:bold;\">@param </span><span style=\"color:#808080;font-style:italic;\">f The function to bind across `Right</span><span style=\"background-color:#e2ffe2;\">`</span><span style=\"color:#808080;font-style:italic;\">.<br></span><span style=\"color:#808080;font-style:italic;\"> */<br></span><span style=\"color:#000080;font-weight:bold;\">def </span>flatMap[<span style=\"color:#20999d;\">A1 </span>&gt;: <span style=\"color:#20999d;\">A</span>, <span style=\"color:#20999d;\">B1</span>](f: <span style=\"color:#20999d;\">B </span>=&gt; Either[<span style=\"color:#20999d;\">A1</span>, <span style=\"color:#20999d;\">B1</span>]): Either[<span style=\"color:#20999d;\">A1</span>, <span style=\"color:#20999d;\">B1</span>] = <span style=\"color:#000080;font-weight:bold;\">this match </span>{<br>  <span style=\"color:#000080;font-weight:bold;\">case </span>Right(b) =&gt; f(b)<br>  <span style=\"color:#000080;font-weight:bold;\">case </span>_        =&gt; <span style=\"color:#000080;font-weight:bold;\">this</span>.asInstanceOf[Either[<span style=\"color:#20999d;\">A1</span>, <span style=\"color:#20999d;\">B1</span>]]<br>}<br><br><span style=\"color:#808080;font-style:italic;\">/** The given function is applied if this is a `Right</span><span style=\"background-color:#e2ffe2;\">`</span><span style=\"color:#808080;font-style:italic;\">.<br></span><span style=\"color:#808080;font-style:italic;\"> *<br></span><span style=\"color:#808080;font-style:italic;\"> *  {{{<br></span><span style=\"color:#808080;font-style:italic;\"> *  Right(12).map(x =&gt; \"flower\") // Result: Right(\"flower\")<br></span><span style=\"color:#808080;font-style:italic;\"> *  Left(12).map(x =&gt; \"flower\")  // Result: Left(12)<br></span><span style=\"color:#808080;font-style:italic;\"> *  }}}<br></span><span style=\"color:#808080;font-style:italic;\"> */<br></span><span style=\"color:#000080;font-weight:bold;\">def </span>map[<span style=\"color:#20999d;\">B1</span>](f: <span style=\"color:#20999d;\">B </span>=&gt; <span style=\"color:#20999d;\">B1</span>): Either[<span style=\"color:#20999d;\">A</span>, <span style=\"color:#20999d;\">B1</span>] = <span style=\"color:#000080;font-weight:bold;\">this match </span>{<br>  <span style=\"color:#000080;font-weight:bold;\">case </span>Right(b) =&gt; Right(f(b))<br>  <span style=\"color:#000080;font-weight:bold;\">case </span>_        =&gt; <span style=\"color:#000080;font-weight:bold;\">this</span>.asInstanceOf[Either[<span style=\"color:#20999d;\">A</span>, <span style=\"color:#20999d;\">B1</span>]]<br>}</pre>"
      ],
      "outputs" : [
      ]
    },
    {
      "cell_type" : "code",
      "execution_count" : 8,
      "metadata" : {
        "cell.metadata.exec_info" : {
          "startTs" : 1582893089842,
          "endTs" : 1582893091325
        },
        "language" : "scala"
      },
      "language" : "scala",
      "source" : [
        "//Either is very useful, when reading/parsing data\r\n",
        "type Name = String\r\n",
        "type Age = Int\r\n",
        "\r\n",
        "case class Person(name: Name, age: Int)\r\n",
        "\r\n",
        "def parseName(s: String): Either[ParseError, Name] =\r\n",
        "  if (s.isEmpty)\r\n",
        "    Left(s\"'$s' is not a valid Name\")\r\n",
        "  else\r\n",
        "    Right(s)\r\n",
        "\r\n",
        "def parseAge(s: String): Either[ParseError, Age] =\r\n",
        "  Try(s.toInt) match {\r\n",
        "    case Failure(_) => Left(s\"'$s' is not a valid Age\")\r\n",
        "    case Success(age) => Right(age)\r\n",
        "  }\r\n",
        "\r\n",
        "def parsePerson(inputName: String, inputAge: String): Either[ParseError, Person] = {\r\n",
        "  for {\r\n",
        "    name <- parseName(inputName)\r\n",
        "    age <- parseAge(inputAge)\r\n",
        "  } yield Person(name, age)\r\n",
        "}"
      ],
      "outputs" : [
      ]
    },
    {
      "cell_type" : "code",
      "execution_count" : 10,
      "metadata" : {
        "cell.metadata.exec_info" : {
          "startTs" : 1582893095550,
          "endTs" : 1582893096408
        },
        "language" : "scala"
      },
      "language" : "scala",
      "source" : [
        "parsePerson(\"Sally\", \"25\")"
      ],
      "outputs" : [
        {
          "execution_count" : 10,
          "data" : {
            "text/plain" : [
              "Right(Person(Sally,25))"
            ]
          },
          "metadata" : {
            "name" : "Out",
            "type" : "Either[ParseError, Person]"
          },
          "output_type" : "execute_result"
        }
      ]
    },
    {
      "cell_type" : "code",
      "execution_count" : 12,
      "metadata" : {
        "cell.metadata.exec_info" : {
          "startTs" : 1582893110473,
          "endTs" : 1582893111081
        },
        "language" : "scala"
      },
      "language" : "scala",
      "source" : [
        "parsePerson(\"\", \"25\")\r\n"
      ],
      "outputs" : [
        {
          "execution_count" : 12,
          "data" : {
            "text/plain" : [
              "Left('' is not a valid Name)"
            ]
          },
          "metadata" : {
            "name" : "Out",
            "type" : "Either[ParseError, Person]"
          },
          "output_type" : "execute_result"
        }
      ]
    },
    {
      "cell_type" : "code",
      "execution_count" : 13,
      "metadata" : {
        "cell.metadata.exec_info" : {
          "startTs" : 1582893133302,
          "endTs" : 1582893133846
        },
        "language" : "scala"
      },
      "language" : "scala",
      "source" : [
        "parsePerson(\"Sally\", \"twenty eight\")\r\n"
      ],
      "outputs" : [
        {
          "execution_count" : 13,
          "data" : {
            "text/plain" : [
              "Left('twenty eight' is not a valid Age)"
            ]
          },
          "metadata" : {
            "name" : "Out",
            "type" : "Either[ParseError, Person]"
          },
          "output_type" : "execute_result"
        }
      ]
    }
  ]
}